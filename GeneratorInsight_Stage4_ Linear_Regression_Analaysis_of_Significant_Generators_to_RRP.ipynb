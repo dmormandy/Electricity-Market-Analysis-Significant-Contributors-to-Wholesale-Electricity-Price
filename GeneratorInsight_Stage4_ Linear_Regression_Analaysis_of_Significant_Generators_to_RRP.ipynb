{
 "cells": [
  {
   "cell_type": "markdown",
   "metadata": {},
   "source": [
    "## Determine Main Contributers to Electricity RRP"
   ]
  },
  {
   "cell_type": "markdown",
   "metadata": {},
   "source": [
    "## Stage 4: Linear Regression Model for Energy Generation predictors to Energy RRP "
   ]
  },
  {
   "cell_type": "markdown",
   "metadata": {},
   "source": [
    "Creates file of Linear Regression prediction data for most significant generators in each Region"
   ]
  },
  {
   "cell_type": "code",
   "execution_count": 2,
   "metadata": {
    "collapsed": true
   },
   "outputs": [],
   "source": [
    "# Import libraries \n",
    "# I've included a handful of libraries here that might be useful\n",
    "import glob\n",
    "import os, zipfile\n",
    "import pathlib\n",
    "import operator\n",
    "import pandas as pd\n",
    "#Plotting Packages\n",
    "import matplotlib.pyplot as plt\n",
    "import matplotlib\n",
    "%matplotlib inline\n",
    "import numpy as np\n",
    "import sys\n",
    "import time\n",
    "import warnings; \n",
    "from IPython.display import display # Used to display multiple pandas tables in one cell\n",
    "from datetime import datetime\n",
    "from datetime import timedelta\n",
    "from scipy import stats\n",
    "from pprint import pprint\n",
    "from sklearn import datasets, linear_model\n",
    "from sklearn.metrics import mean_squared_error, r2_score\n",
    "from sklearn import model_selection\n",
    "from sklearn.model_selection import train_test_split\n",
    "from sklearn.linear_model import Lasso, LassoCV\n",
    "from sklearn.preprocessing import PolynomialFeatures\n",
    "from sklearn.linear_model import LinearRegression\n",
    "from sklearn.pipeline import Pipeline\n",
    "\n",
    "from IPython.display import display # Used to display multiple pandas tables in one cell\n",
    "from pandas.tools.plotting import scatter_matrix"
   ]
  },
  {
   "cell_type": "code",
   "execution_count": 3,
   "metadata": {
    "collapsed": true
   },
   "outputs": [],
   "source": [
    "# Set some display options for iPython\n",
    "pd.set_option('max_colwidth',100)\n",
    "pd.set_option('max_rows',200)\n",
    "pd.set_option('max_columns',150)\n",
    "matplotlib.rcParams.update({'font.size': 15})  # default fonts in matplotlib are too small"
   ]
  },
  {
   "cell_type": "markdown",
   "metadata": {},
   "source": [
    "### Change the file names according to the region required"
   ]
  },
  {
   "cell_type": "code",
   "execution_count": 4,
   "metadata": {
    "collapsed": false
   },
   "outputs": [
    {
     "name": "stdout",
     "output_type": "stream",
     "text": [
      "(1344, 52)\n"
     ]
    }
   ],
   "source": [
    "RegionCombined_file ='F:/RMIT_MasterofAnalytics/LEP_DataScience/Assignments/Datasets/NSW1_Feb17_DispatchData_Interconnectors.csv'\n",
    "df_Region = pd.read_csv(RegionCombined_file,sep=',',skiprows=0,error_bad_lines=False,warn_bad_lines=False)\n",
    "print(df_Region.shape)"
   ]
  },
  {
   "cell_type": "code",
   "execution_count": 5,
   "metadata": {
    "collapsed": true
   },
   "outputs": [],
   "source": [
    "#Rename Output file\n",
    "outputfile='F:/RMIT_MasterofAnalytics/LEP_DataScience/Assignments/Datasets/NSW1_LinearMultiplicationInterconnectors.csv'"
   ]
  },
  {
   "cell_type": "code",
   "execution_count": 6,
   "metadata": {
    "collapsed": false
   },
   "outputs": [],
   "source": [
    "df_Region.isnull().sum()\n",
    "df_Region.fillna(0, inplace=True)\n",
    "#df_Region = df_Region.dropna(axis=0,how='any')"
   ]
  },
  {
   "cell_type": "code",
   "execution_count": 7,
   "metadata": {
    "collapsed": false
   },
   "outputs": [
    {
     "name": "stdout",
     "output_type": "stream",
     "text": [
      "    BLOWERNG  BOCORWF1  BROKENH1        BW01        BW02        BW03  \\\n",
      "0  67.439002  0.580000       0.0  479.845020  481.540012  481.149978   \n",
      "1  67.435752  0.675000       0.0  446.108340  429.449992  425.895835   \n",
      "2  67.464288  0.368333       0.0  428.825010  435.195823  425.820822   \n",
      "3  67.450837  0.131667       0.0  447.845825  444.558330  447.683330   \n",
      "4  67.435000  0.000000       0.0  430.450052  432.241660  439.516645   \n",
      "\n",
      "         BW04   CAPTL_WF  CG1  CG2  CG3  CG4   CULLRGWF        ER01  \\\n",
      "0  489.030004  27.695203  0.0  0.0  0.0  0.0  10.112000  517.044996   \n",
      "1  437.433350  24.160001  0.0  0.0  0.0  0.0   9.105000  489.641663   \n",
      "2  444.191652  38.949333  0.0  0.0  0.0  0.0  10.768333  443.862507   \n",
      "3  461.845827  50.253333  0.0  0.0  0.0  0.0  10.755000  405.033343   \n",
      "4  447.474978  32.939332  0.0  0.0  0.0  0.0  12.068333  350.533305   \n",
      "\n",
      "         ER02        ER03        ER04  ERGT01      GB01   GULLRWF1   GUNNING1  \\\n",
      "0  517.234986  516.535010  517.155004     0.0 -0.021896  16.322076  16.835370   \n",
      "1  492.237508  490.091673  489.179158     0.0 -0.023376  22.822540  16.411658   \n",
      "2  443.237490  443.491658  440.037497     0.0 -0.024857  23.658815  14.387253   \n",
      "3  405.420818  406.433330  403.662517     0.0 -0.030293  22.375423  15.845782   \n",
      "4  351.387513  350.266685  350.058312     0.0 -0.028235  18.354638  14.849450   \n",
      "\n",
      "   GUTHEGA  HVGTS        LD01        LD02        LD03        LD04  MOREESF1  \\\n",
      "0      0.0    0.0  251.988744  251.313724  250.717470  252.089978       0.0   \n",
      "1      0.0    0.0  250.768737  251.712488  251.243762  251.406247       0.0   \n",
      "2      0.0    0.0  250.634380  250.171860  250.515623  251.415633       0.0   \n",
      "3      0.0    0.0  252.259373  251.065627  251.824997  252.628125       0.0   \n",
      "4      0.0    0.0  252.253115  251.449985  251.665635  251.603115       0.0   \n",
      "\n",
      "          MP1         MP2  MURRAY  NYNGAN1  ROYALLA1  SHGEN  TALWA1  TARALGA1  \\\n",
      "0  450.169994  451.585008     0.0      0.0       0.0    0.0     0.0  7.027498   \n",
      "1  407.170857  410.787497     0.0      0.0       0.0    0.0     0.0  5.950625   \n",
      "2  356.400005  346.066630     0.0      0.0       0.0    0.0     0.0  3.926250   \n",
      "3  413.629150  347.916685     0.0      0.0       0.0    0.0     0.0  4.781248   \n",
      "4  390.987487  332.441650     0.0      0.0       0.0    0.0     0.0  2.468125   \n",
      "\n",
      "   TUMUT3   UPPTUMUT  URANQ11  URANQ12  URANQ13  URANQ14         VP5  \\\n",
      "0     0.0  65.065096      0.0      0.0      0.0      0.0  450.919996   \n",
      "1     0.0  11.518937      0.0      0.0      0.0      0.0  395.958330   \n",
      "2     0.0   0.000000      0.0      0.0      0.0      0.0  377.545840   \n",
      "3     0.0   1.034970      0.0      0.0      0.0      0.0  472.245818   \n",
      "4     0.0   0.013902      0.0      0.0      0.0      0.0  494.541670   \n",
      "\n",
      "          VP6   WOODLWN1       SETTLEMENTDATE  N-Q-MNSP1   NSW1-QLD1  \\\n",
      "0  452.055004  15.798596  2017-02-01 00:30:00   9.000000 -199.256178   \n",
      "1  390.312500  11.245500  2017-02-01 01:00:00  51.116667  328.242177   \n",
      "2  374.070832  17.487003  2017-02-01 01:30:00  11.000000  -65.161715   \n",
      "3  474.241668  17.964000  2017-02-01 02:00:00  -9.633333 -241.221697   \n",
      "4  492.216670  13.578008  2017-02-01 02:30:00   6.000000 -231.446037   \n",
      "\n",
      "    VIC1-NSW1 REGION  TOTALDEMAND    RRP  \n",
      "0  771.586480   NSW1      7589.40  56.01  \n",
      "1  651.377975   NSW1      7286.38  30.11  \n",
      "2  896.018287   NSW1      6964.76  45.51  \n",
      "3  913.923222   NSW1      6838.74  66.78  \n",
      "4  958.787083   NSW1      6636.28  69.96  \n"
     ]
    }
   ],
   "source": [
    "print(df_Region.head(5))"
   ]
  },
  {
   "cell_type": "markdown",
   "metadata": {},
   "source": [
    "### Set up Test and Training Datasets"
   ]
  },
  {
   "cell_type": "code",
   "execution_count": 8,
   "metadata": {
    "collapsed": false
   },
   "outputs": [
    {
     "data": {
      "text/plain": [
       "(1344, 48)"
      ]
     },
     "metadata": {},
     "output_type": "display_data"
    },
    {
     "data": {
      "text/plain": [
       "Index(['BLOWERNG', 'BOCORWF1', 'BROKENH1', 'BW01', 'BW02', 'BW03', 'BW04',\n",
       "       'CAPTL_WF', 'CG1', 'CG2', 'CG3', 'CG4', 'CULLRGWF', 'ER01', 'ER02',\n",
       "       'ER03', 'ER04', 'ERGT01', 'GB01', 'GULLRWF1', 'GUNNING1', 'GUTHEGA',\n",
       "       'HVGTS', 'LD01', 'LD02', 'LD03', 'LD04', 'MOREESF1', 'MP1', 'MP2',\n",
       "       'MURRAY', 'NYNGAN1', 'ROYALLA1', 'SHGEN', 'TALWA1', 'TARALGA1',\n",
       "       'TUMUT3', 'UPPTUMUT', 'URANQ11', 'URANQ12', 'URANQ13', 'URANQ14', 'VP5',\n",
       "       'VP6', 'WOODLWN1', 'N-Q-MNSP1', 'NSW1-QLD1', 'VIC1-NSW1'],\n",
       "      dtype='object')"
      ]
     },
     "metadata": {},
     "output_type": "display_data"
    }
   ],
   "source": [
    "X = df_Region.drop(['SETTLEMENTDATE','RRP','REGION','TOTALDEMAND'], axis = 1)\n",
    "y = df_Region['RRP']\n",
    "display(X.shape)\n",
    "display(X.columns)"
   ]
  },
  {
   "cell_type": "code",
   "execution_count": 9,
   "metadata": {
    "collapsed": false
   },
   "outputs": [
    {
     "name": "stdout",
     "output_type": "stream",
     "text": [
      "(269, 48)\n",
      "(269,)\n"
     ]
    }
   ],
   "source": [
    "# prepare configuration for cross validation test harness\n",
    "seed = 8\n",
    "\n",
    "# Create Test and Training datasets\n",
    "X_train, X_test, y_train, y_test = train_test_split(X, y, test_size=0.2, random_state=48)\n",
    "\n",
    "print(X_test.shape)\n",
    "print(y_test.shape)\n",
    "\n",
    "#Suppress Warnings\n",
    "warnings.simplefilter('ignore')"
   ]
  },
  {
   "cell_type": "markdown",
   "metadata": {},
   "source": [
    "### Linear Regression Model"
   ]
  },
  {
   "cell_type": "markdown",
   "metadata": {},
   "source": [
    "Lasso Model is used with positive=True to ensure coefficients are only Positive"
   ]
  },
  {
   "cell_type": "code",
   "execution_count": 10,
   "metadata": {
    "collapsed": false
   },
   "outputs": [],
   "source": [
    "# Create linear regression object\n",
    "regr = Lasso(alpha=0.001,precompute=True,max_iter=1000000,positive=True, random_state=9999, selection='cyclic',tol=0.0001)\n",
    "\n",
    "# Train the model using the training sets\n",
    "regr.fit(X_train, y_train)\n",
    "\n",
    "# Make predictions using the testing set\n",
    "y_pred = regr.predict(X_test)"
   ]
  },
  {
   "cell_type": "code",
   "execution_count": 11,
   "metadata": {
    "collapsed": false
   },
   "outputs": [
    {
     "name": "stdout",
     "output_type": "stream",
     "text": [
      "Coefficients: \n",
      " [  0.           0.05596381   0.           0.           0.           0.           0.\n",
      "   0.           0.           6.88485007   0.           0.           0.           0.\n",
      "   0.           0.           0.           0.          25.3117293    0.           0.\n",
      "   4.00104111  31.5141277    0.           0.           0.           0.           0.\n",
      "   0.           0.           0.27074086   0.           0.           0.           0.\n",
      "   0.           1.44549584   0.           0.           0.           0.           0.\n",
      "   0.           0.           0.           0.           0.11897391   0.        ]\n",
      "Intercept: \n",
      " -23.7737565801\n",
      "Mean squared error: 161319.79\n",
      "Variance score: 0.41\n"
     ]
    }
   ],
   "source": [
    "# The coefficients\n",
    "print('Coefficients: \\n', regr.coef_)\n",
    "# The intercept\n",
    "print('Intercept: \\n', regr.intercept_)\n",
    "# The mean squared error\n",
    "print(\"Mean squared error: %.2f\"\n",
    "      % mean_squared_error(y_test, y_pred))\n",
    "# Explained variance score: 1 is perfect prediction\n",
    "print('Variance score: %.2f' % r2_score(y_test, y_pred))"
   ]
  },
  {
   "cell_type": "code",
   "execution_count": 12,
   "metadata": {
    "collapsed": false
   },
   "outputs": [],
   "source": [
    "x = range(0,len(y_test))\n",
    "y_test.sort()\n",
    "y_pred.sort()"
   ]
  },
  {
   "cell_type": "code",
   "execution_count": 13,
   "metadata": {
    "collapsed": false
   },
   "outputs": [
    {
     "data": {
      "image/png": "[encoded data removed]",
      "text/plain": [
       "<matplotlib.figure.Figure at 0xc6ce6a0>"
      ]
     },
     "metadata": {},
     "output_type": "display_data"
    }
   ],
   "source": [
    "#Plot outputs\n",
    "plt.grid()\n",
    "plt.scatter(x, y_test,  color='black')\n",
    "plt.plot(x, y_pred, color='blue', linewidth=3)\n",
    "\n",
    "plt.show()"
   ]
  },
  {
   "cell_type": "code",
   "execution_count": 14,
   "metadata": {
    "collapsed": false
   },
   "outputs": [
    {
     "name": "stdout",
     "output_type": "stream",
     "text": [
      "[(0.0, 'BLOWERNG'), (0.055963811586467925, 'BOCORWF1'), (0.0, 'BROKENH1'), (0.0, 'BW01'), (0.0, 'BW02'), (0.0, 'BW03'), (0.0, 'BW04'), (0.0, 'CAPTL_WF'), (0.0, 'CG1'), (6.8848500696831394, 'CG2'), (0.0, 'CG3'), (0.0, 'CG4'), (0.0, 'CULLRGWF'), (0.0, 'ER01'), (0.0, 'ER02'), (0.0, 'ER03'), (0.0, 'ER04'), (0.0, 'ERGT01'), (25.311729296241097, 'GB01'), (0.0, 'GULLRWF1'), (0.0, 'GUNNING1'), (4.0010411070465919, 'GUTHEGA'), (31.514127701737429, 'HVGTS'), (0.0, 'LD01'), (0.0, 'LD02'), (0.0, 'LD03'), (0.0, 'LD04'), (0.0, 'MOREESF1'), (0.0, 'MP1'), (0.0, 'MP2'), (0.27074085592661934, 'MURRAY'), (0.0, 'NYNGAN1'), (0.0, 'ROYALLA1'), (0.0, 'SHGEN'), (0.0, 'TALWA1'), (0.0, 'TARALGA1'), (1.4454958429710512, 'TUMUT3'), (0.0, 'UPPTUMUT'), (0.0, 'URANQ11'), (0.0, 'URANQ12'), (0.0, 'URANQ13'), (0.0, 'URANQ14'), (0.0, 'VP5'), (0.0, 'VP6'), (0.0, 'WOODLWN1'), (0.0, 'N-Q-MNSP1'), (0.11897390760583994, 'NSW1-QLD1'), (0.0, 'VIC1-NSW1')]\n"
     ]
    }
   ],
   "source": [
    "# Put the Coefficients from the Linear Model together with the Generator Names\n",
    "print(list(zip(regr.coef_, X.columns)))\n",
    "RegionCoef = list(zip(regr.coef_, X.columns))"
   ]
  },
  {
   "cell_type": "code",
   "execution_count": 15,
   "metadata": {
    "collapsed": true
   },
   "outputs": [],
   "source": [
    "coef_dict = {}\n",
    "for coef, feat in zip(regr.coef_, X.columns):\n",
    "    coef_dict[feat] = coef"
   ]
  },
  {
   "cell_type": "code",
   "execution_count": 17,
   "metadata": {
    "collapsed": false
   },
   "outputs": [
    {
     "name": "stdout",
     "output_type": "stream",
     "text": [
      "-23.7737565801\n"
     ]
    }
   ],
   "source": [
    "print(regr.intercept_)"
   ]
  },
  {
   "cell_type": "code",
   "execution_count": 18,
   "metadata": {
    "collapsed": false
   },
   "outputs": [
    {
     "name": "stdout",
     "output_type": "stream",
     "text": [
      "{'BLOWERNG': 0.0,\n",
      " 'BOCORWF1': 0.055963811586467925,\n",
      " 'BROKENH1': 0.0,\n",
      " 'BW01': 0.0,\n",
      " 'BW02': 0.0,\n",
      " 'BW03': 0.0,\n",
      " 'BW04': 0.0,\n",
      " 'CAPTL_WF': 0.0,\n",
      " 'CG1': 0.0,\n",
      " 'CG2': 6.8848500696831394,\n",
      " 'CG3': 0.0,\n",
      " 'CG4': 0.0,\n",
      " 'CULLRGWF': 0.0,\n",
      " 'ER01': 0.0,\n",
      " 'ER02': 0.0,\n",
      " 'ER03': 0.0,\n",
      " 'ER04': 0.0,\n",
      " 'ERGT01': 0.0,\n",
      " 'GB01': 25.311729296241097,\n",
      " 'GULLRWF1': 0.0,\n",
      " 'GUNNING1': 0.0,\n",
      " 'GUTHEGA': 4.0010411070465919,\n",
      " 'HVGTS': 31.514127701737429,\n",
      " 'LD01': 0.0,\n",
      " 'LD02': 0.0,\n",
      " 'LD03': 0.0,\n",
      " 'LD04': 0.0,\n",
      " 'MOREESF1': 0.0,\n",
      " 'MP1': 0.0,\n",
      " 'MP2': 0.0,\n",
      " 'MURRAY': 0.27074085592661934,\n",
      " 'N-Q-MNSP1': 0.0,\n",
      " 'NSW1-QLD1': 0.11897390760583994,\n",
      " 'NYNGAN1': 0.0,\n",
      " 'ROYALLA1': 0.0,\n",
      " 'SHGEN': 0.0,\n",
      " 'TALWA1': 0.0,\n",
      " 'TARALGA1': 0.0,\n",
      " 'TUMUT3': 1.4454958429710512,\n",
      " 'UPPTUMUT': 0.0,\n",
      " 'URANQ11': 0.0,\n",
      " 'URANQ12': 0.0,\n",
      " 'URANQ13': 0.0,\n",
      " 'URANQ14': 0.0,\n",
      " 'VIC1-NSW1': 0.0,\n",
      " 'VP5': 0.0,\n",
      " 'VP6': 0.0,\n",
      " 'WOODLWN1': 0.0}\n"
     ]
    }
   ],
   "source": [
    "pprint(coef_dict)"
   ]
  },
  {
   "cell_type": "code",
   "execution_count": 19,
   "metadata": {
    "collapsed": true
   },
   "outputs": [],
   "source": [
    "sorted_coef = sorted(coef_dict.items(), key=operator.itemgetter(1))"
   ]
  },
  {
   "cell_type": "code",
   "execution_count": 20,
   "metadata": {
    "collapsed": false
   },
   "outputs": [
    {
     "name": "stdout",
     "output_type": "stream",
     "text": [
      "[('GUNNING1', 0.0), ('URANQ12', 0.0), ('GULLRWF1', 0.0), ('LD02', 0.0), ('ROYALLA1', 0.0), ('ER01', 0.0), ('LD04', 0.0), ('NYNGAN1', 0.0), ('CULLRGWF', 0.0), ('ER03', 0.0), ('TARALGA1', 0.0), ('TALWA1', 0.0), ('VP6', 0.0), ('UPPTUMUT', 0.0), ('CAPTL_WF', 0.0), ('BROKENH1', 0.0), ('VP5', 0.0), ('ER04', 0.0), ('MP2', 0.0), ('BW03', 0.0), ('MOREESF1', 0.0), ('BW02', 0.0), ('URANQ13', 0.0), ('VIC1-NSW1', 0.0), ('CG4', 0.0), ('URANQ14', 0.0), ('ER02', 0.0), ('SHGEN', 0.0), ('URANQ11', 0.0), ('CG1', 0.0), ('N-Q-MNSP1', 0.0), ('BW04', 0.0), ('BW01', 0.0), ('MP1', 0.0), ('LD03', 0.0), ('CG3', 0.0), ('ERGT01', 0.0), ('BLOWERNG', 0.0), ('LD01', 0.0), ('WOODLWN1', 0.0), ('BOCORWF1', 0.055963811586467925), ('NSW1-QLD1', 0.11897390760583994), ('MURRAY', 0.27074085592661934), ('TUMUT3', 1.4454958429710512), ('GUTHEGA', 4.0010411070465919), ('CG2', 6.8848500696831394), ('GB01', 25.311729296241097), ('HVGTS', 31.514127701737429)]\n"
     ]
    }
   ],
   "source": [
    "print(sorted_coef)"
   ]
  },
  {
   "cell_type": "code",
   "execution_count": 21,
   "metadata": {
    "collapsed": false
   },
   "outputs": [],
   "source": [
    "# Create Dataset of Multiplication of coefficients with original Data\n",
    "Regionresult = X * regr.coef_"
   ]
  },
  {
   "cell_type": "code",
   "execution_count": 22,
   "metadata": {
    "collapsed": false
   },
   "outputs": [
    {
     "name": "stdout",
     "output_type": "stream",
     "text": [
      "(1344, 48)\n",
      "(1344, 52)\n"
     ]
    }
   ],
   "source": [
    "print(Regionresult.shape)\n",
    "print(df_Region.shape)"
   ]
  },
  {
   "cell_type": "code",
   "execution_count": 23,
   "metadata": {
    "collapsed": false
   },
   "outputs": [],
   "source": [
    "Regionresult = pd.concat([df_Region[['SETTLEMENTDATE','RRP','REGION','TOTALDEMAND']], Regionresult], axis=1)"
   ]
  },
  {
   "cell_type": "code",
   "execution_count": 27,
   "metadata": {
    "collapsed": true
   },
   "outputs": [],
   "source": [
    "#Save result to output file\n",
    "Regionresult.to_csv(outputfile,index=False)"
   ]
  },
  {
   "cell_type": "code",
   "execution_count": null,
   "metadata": {
    "collapsed": true
   },
   "outputs": [],
   "source": []
  }
 ],
 "metadata": {
  "anaconda-cloud": {},
  "kernelspec": {
   "display_name": "Python [Root]",
   "language": "python",
   "name": "Python [Root]"
  },
  "language_info": {
   "codemirror_mode": {
    "name": "ipython",
    "version": 3
   },
   "file_extension": ".py",
   "mimetype": "text/x-python",
   "name": "python",
   "nbconvert_exporter": "python",
   "pygments_lexer": "ipython3",
   "version": "3.5.2"
  }
 },
 "nbformat": 4,
 "nbformat_minor": 0
}
