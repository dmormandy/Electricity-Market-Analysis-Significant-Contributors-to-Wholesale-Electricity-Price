{
 "cells": [
  {
   "cell_type": "markdown",
   "metadata": {},
   "source": [
    "## Determine Main Contributers to Electricity RRP"
   ]
  },
  {
   "cell_type": "markdown",
   "metadata": {},
   "source": [
    "## Stage 3: Combine Generator and Interconnector Data with State Price and Demand Data"
   ]
  },
  {
   "cell_type": "code",
   "execution_count": 1,
   "metadata": {
    "collapsed": true
   },
   "outputs": [],
   "source": [
    "# Import libraries \n",
    "# I've included a handful of libraries here that might be useful\n",
    "import glob\n",
    "import os, zipfile\n",
    "import pathlib\n",
    "import pandas as pd\n",
    "import matplotlib.pyplot as plt\n",
    "import matplotlib\n",
    "import numpy as np\n",
    "import sys\n",
    "import time\n",
    "from IPython.display import display # Used to display multiple pandas tables in one cell\n",
    "from datetime import datetime, time\n",
    "from datetime import timedelta\n",
    "from scipy import stats\n",
    "from pprint import pprint"
   ]
  },
  {
   "cell_type": "code",
   "execution_count": null,
   "metadata": {
    "collapsed": true
   },
   "outputs": [],
   "source": [
    "# Interconnector 30min Average Data for required Month obtained from Stage 1\n",
    "interconn_file ='F:/RMIT_MasterofAnalytics/LEP_DataScience/Assignments/Datasets/DispatchIS_Feb17_30minAverage.csv'\n",
    "df_interconn = pd.read_csv(interconn_file,sep=',',skiprows=0,error_bad_lines=False,warn_bad_lines=False)"
   ]
  },
  {
   "cell_type": "code",
   "execution_count": 3,
   "metadata": {
    "collapsed": false
   },
   "outputs": [],
   "source": [
    "# Generator 30min Average Data for required Month obtained from Stage 2\n",
    "scada_file ='F:/RMIT_MasterofAnalytics/LEP_DataScience/Assignments/Datasets/DispatchScada_Feb17_30minAverage.csv'\n",
    "df_scada = pd.read_csv(scada_file,sep=',',skiprows=0,error_bad_lines=False,warn_bad_lines=False)"
   ]
  },
  {
   "cell_type": "markdown",
   "metadata": {},
   "source": [
    "State Price and Demand Data for required Month and required State obtained from:\n",
    "https://www.aemo.com.au/Electricity/National-Electricity-Market-NEM/Data-dashboard#aggregated-data"
   ]
  },
  {
   "cell_type": "code",
   "execution_count": 5,
   "metadata": {
    "collapsed": false
   },
   "outputs": [],
   "source": [
    "priceDemand_file ='F:/RMIT_MasterofAnalytics/LEP_DataScience/Assignments/Datasets/PriceandDemand/PRICE_AND_DEMAND_201702_NSW1.csv'\n",
    "df_priceDemand = pd.read_csv(priceDemand_file,sep=',',skiprows=0,error_bad_lines=False,warn_bad_lines=False)"
   ]
  },
  {
   "cell_type": "markdown",
   "metadata": {},
   "source": [
    "Generator Information obtained fro:Australian Renewable Energy Mapping Infrastructure: https://nationalmap.gov.au/renewables/ "
   ]
  },
  {
   "cell_type": "code",
   "execution_count": 6,
   "metadata": {
    "collapsed": true
   },
   "outputs": [],
   "source": [
    "NSW1_file ='F:/RMIT_MasterofAnalytics/LEP_DataScience/Assignments/NSW1_generators.csv'\n",
    "df_NSW1 = pd.read_csv(NSW1_file,sep=',',skiprows=0,error_bad_lines=False,warn_bad_lines=False)"
   ]
  },
  {
   "cell_type": "code",
   "execution_count": 7,
   "metadata": {
    "collapsed": false
   },
   "outputs": [
    {
     "name": "stdout",
     "output_type": "stream",
     "text": [
      "   AGL      Duid Fuel Source - Descriptor  \\\n",
      "0  NOT  TARALGA1                     Wind   \n",
      "1  NOT  WOODLWN1                     Wind   \n",
      "2  NOT  GUNNING1                     Wind   \n",
      "3  NOT  CULLRGWF                     Wind   \n",
      "4  NOT  CAPTL_WF                     Wind   \n",
      "\n",
      "                                         Participant Unit Size (MW)  \\\n",
      "0  Taralga Wind Farm Nominees No 2 Pty Ltd (ATF T...          106.8   \n",
      "1                              Woodlawn Wind Pty Ltd            2.1   \n",
      "2           Gunning Wind Energy Developments Pty Ltd            2.1   \n",
      "3                  Origin Energy Electricity Limited              2   \n",
      "4                 Infigen Energy Markets Pty Limited              2   \n",
      "\n",
      "         Lat         Lon  \n",
      "0 -34.427076  149.857640  \n",
      "1 -35.086060  149.571606  \n",
      "2 -34.695831  149.383175  \n",
      "3 -34.804982  149.400130  \n",
      "4 -35.166031  149.518569  \n"
     ]
    }
   ],
   "source": [
    "print(df_NSW1.head(5))"
   ]
  },
  {
   "cell_type": "code",
   "execution_count": 8,
   "metadata": {
    "collapsed": false
   },
   "outputs": [],
   "source": [
    "# Add the interconnector Names to the Generator Information\n",
    "NSWGenList = list(df_NSW1['Duid'])\n",
    "NSWGenList = NSWGenList + ['N-Q-MNSP1','NSW1-QLD1','VIC1-NSW1']"
   ]
  },
  {
   "cell_type": "code",
   "execution_count": 9,
   "metadata": {
    "collapsed": false
   },
   "outputs": [
    {
     "name": "stdout",
     "output_type": "stream",
     "text": [
      "['TARALGA1', 'WOODLWN1', 'GUNNING1', 'CULLRGWF', 'CAPTL_WF', 'BOCORWF1', 'GULLRWF1', 'TUMUT3', 'MURRAY', 'UPPTUMUT', 'BLOWERNG', 'SHGEN', 'GUTHEGA', 'WYANGALA', 'JOUNAMA1', 'KEEPIT', 'BURRIN', 'WYANGALB', 'THEDROP1', 'JNDABNE1', 'BROWNMT', 'COPTNHYD', 'BDONGHYD', 'PINDARI', 'GLBWNHYD', 'MOREESF1', 'MLSP', 'ROYALLA1', 'CESF1', 'NYNGAN1', 'BROKENH1', 'TALWA1', 'CG4', 'CG3', 'CG2', 'CG1', 'URANQ14', 'URANQ13', 'URANQ12', 'URANQ11', 'HVGTS', 'ERGT01', 'GB01', 'STGEORG1', 'NINEWIL1', 'WESTCBT1', 'WESTILL1', 'BANKSPT1', 'WILGB01', 'WILGAPK', 'TERALBA', 'ER04', 'ER03', 'ER02', 'ER01', 'MP2', 'MP1', 'VP6', 'VP5', 'BW04', 'BW03', 'BW02', 'BW01', 'LD04', 'LD03', 'LD02', 'LD01', 'CONDONG1', 'BWTR1', 'N-Q-MNSP1', 'NSW1-QLD1', 'VIC1-NSW1']\n"
     ]
    }
   ],
   "source": [
    "print(NSWGenList)"
   ]
  },
  {
   "cell_type": "code",
   "execution_count": 10,
   "metadata": {
    "collapsed": false
   },
   "outputs": [
    {
     "name": "stdout",
     "output_type": "stream",
     "text": [
      "   N-Q-MNSP1   NSW1-QLD1   T-V-MNSP1   V-S-MNSP1        V-SA   VIC1-NSW1  \\\n",
      "0  -9.000000  199.256178 -474.199274  -69.953338  308.379914  771.586480   \n",
      "1 -51.116667 -328.242177 -473.773893   -4.744007  202.867875  651.377975   \n",
      "2 -11.000000   65.161715 -478.000000  -20.358867  167.735778  896.018287   \n",
      "3   9.633333  241.221697 -478.000000 -110.775287  369.339198  913.923222   \n",
      "4  -6.000000  231.446037 -478.000000 -123.852095  367.907317  958.787083   \n",
      "\n",
      "              DATETIME  \n",
      "0  2017-02-01 00:30:00  \n",
      "1  2017-02-01 01:00:00  \n",
      "2  2017-02-01 01:30:00  \n",
      "3  2017-02-01 02:00:00  \n",
      "4  2017-02-01 02:30:00  \n"
     ]
    }
   ],
   "source": [
    "print(df_interconn.head(5))"
   ]
  },
  {
   "cell_type": "code",
   "execution_count": 11,
   "metadata": {
    "collapsed": false
   },
   "outputs": [],
   "source": [
    "##Need to change Polarity of Interconnectors\n",
    "#N-Q-MNSP1 provides electricity to Qld from NSW so should change sign to be default of negative\n",
    "#NSW1-QLD1 provides electricity to Qld from NSW so should change sign to be default of negative\n",
    "#VIC1-NSW1 provides electricity to NSW from VIC so should be left as it is\n",
    "df_interconn['N-Q-MNSP1'] = df_interconn['N-Q-MNSP1']* -1\n",
    "df_interconn['NSW1-QLD1'] = df_interconn['NSW1-QLD1']* -1\n",
    "df_interconn['VIC1-NSW1'] = df_interconn['VIC1-NSW1']"
   ]
  },
  {
   "cell_type": "code",
   "execution_count": 12,
   "metadata": {
    "collapsed": false
   },
   "outputs": [
    {
     "name": "stdout",
     "output_type": "stream",
     "text": [
      "   N-Q-MNSP1   NSW1-QLD1   T-V-MNSP1   V-S-MNSP1        V-SA   VIC1-NSW1  \\\n",
      "0   9.000000 -199.256178 -474.199274  -69.953338  308.379914  771.586480   \n",
      "1  51.116667  328.242177 -473.773893   -4.744007  202.867875  651.377975   \n",
      "2  11.000000  -65.161715 -478.000000  -20.358867  167.735778  896.018287   \n",
      "3  -9.633333 -241.221697 -478.000000 -110.775287  369.339198  913.923222   \n",
      "4   6.000000 -231.446037 -478.000000 -123.852095  367.907317  958.787083   \n",
      "\n",
      "              DATETIME  \n",
      "0  2017-02-01 00:30:00  \n",
      "1  2017-02-01 01:00:00  \n",
      "2  2017-02-01 01:30:00  \n",
      "3  2017-02-01 02:00:00  \n",
      "4  2017-02-01 02:30:00  \n"
     ]
    }
   ],
   "source": [
    "print(df_interconn.head(5))"
   ]
  },
  {
   "cell_type": "code",
   "execution_count": 13,
   "metadata": {
    "collapsed": false
   },
   "outputs": [],
   "source": [
    "#Remove unnecessary Interconnectors\n",
    "df_interconn.drop(['V-SA','V-S-MNSP1','T-V-MNSP1'], axis=1,inplace=True)"
   ]
  },
  {
   "cell_type": "markdown",
   "metadata": {},
   "source": [
    "### Combine Interconnector Information with Generator Information"
   ]
  },
  {
   "cell_type": "code",
   "execution_count": 15,
   "metadata": {
    "collapsed": false
   },
   "outputs": [],
   "source": [
    "df_interconn['DATETIME'] = pd.to_datetime(df_interconn['DATETIME'])\n",
    "df_scada['DATETIME'] = pd.to_datetime(df_scada['DATETIME'])"
   ]
  },
  {
   "cell_type": "code",
   "execution_count": 16,
   "metadata": {
    "collapsed": false
   },
   "outputs": [
    {
     "name": "stdout",
     "output_type": "stream",
     "text": [
      "count                    1345\n",
      "unique                   1345\n",
      "top       2017-02-11 09:00:00\n",
      "freq                        1\n",
      "first     2017-02-01 00:30:00\n",
      "last      2017-03-01 00:30:00\n",
      "Name: DATETIME, dtype: object\n",
      "count                    1345\n",
      "unique                   1345\n",
      "top       2017-02-11 09:00:00\n",
      "freq                        1\n",
      "first     2017-02-01 00:30:00\n",
      "last      2017-03-01 00:30:00\n",
      "Name: DATETIME, dtype: object\n"
     ]
    }
   ],
   "source": [
    "print(df_interconn['DATETIME'].describe())\n",
    "print(df_scada['DATETIME'].describe())"
   ]
  },
  {
   "cell_type": "code",
   "execution_count": 17,
   "metadata": {
    "collapsed": false
   },
   "outputs": [],
   "source": [
    "df_scadaIS = pd.merge(df_scada, df_interconn, on='DATETIME')"
   ]
  },
  {
   "cell_type": "code",
   "execution_count": null,
   "metadata": {
    "collapsed": true
   },
   "outputs": [],
   "source": [
    "df_scadaIS=df_scadaIS.rename(columns = {'DATETIME':'SETTLEMENTDATE'})"
   ]
  },
  {
   "cell_type": "markdown",
   "metadata": {},
   "source": [
    "### Combine Generator & Interconnector Data with Price and Demand Data"
   ]
  },
  {
   "cell_type": "code",
   "execution_count": 21,
   "metadata": {
    "collapsed": false
   },
   "outputs": [],
   "source": [
    "df_priceDemand.drop(['PERIODTYPE'], axis=1,inplace=True)"
   ]
  },
  {
   "cell_type": "code",
   "execution_count": 23,
   "metadata": {
    "collapsed": false
   },
   "outputs": [],
   "source": [
    "# Generator & Interconnector Data has one too many time periods - so remove this\n",
    "df_scadaIS = df_scadaIS[df_scadaIS['SETTLEMENTDATE']!='2017-03-01 00:30:00']"
   ]
  },
  {
   "cell_type": "code",
   "execution_count": 25,
   "metadata": {
    "collapsed": false
   },
   "outputs": [
    {
     "name": "stdout",
     "output_type": "stream",
     "text": [
      "(1344, 4)\n"
     ]
    }
   ],
   "source": [
    "print(df_priceDemand.shape)\n",
    "df_priceDemand['SETTLEMENTDATE'] = pd.to_datetime(df_priceDemand['SETTLEMENTDATE'], format='%Y/%m/%d %H:%M:%S', errors='coerce')"
   ]
  },
  {
   "cell_type": "code",
   "execution_count": 27,
   "metadata": {
    "collapsed": false
   },
   "outputs": [
    {
     "name": "stdout",
     "output_type": "stream",
     "text": [
      "(1344, 276)\n",
      "(1344, 4)\n"
     ]
    }
   ],
   "source": [
    "# Make sure both datasets are the same length\n",
    "print(df_scadaIS.shape)\n",
    "print(df_priceDemand.shape)"
   ]
  },
  {
   "cell_type": "code",
   "execution_count": 28,
   "metadata": {
    "collapsed": false
   },
   "outputs": [
    {
     "name": "stdout",
     "output_type": "stream",
     "text": [
      "count                    1344\n",
      "unique                   1344\n",
      "top       2017-02-11 09:00:00\n",
      "freq                        1\n",
      "first     2017-02-01 00:30:00\n",
      "last      2017-03-01 00:00:00\n",
      "Name: SETTLEMENTDATE, dtype: object\n",
      "count                    1344\n",
      "unique                   1344\n",
      "top       2017-02-11 09:00:00\n",
      "freq                        1\n",
      "first     2017-02-01 00:30:00\n",
      "last      2017-03-01 00:00:00\n",
      "Name: SETTLEMENTDATE, dtype: object\n"
     ]
    }
   ],
   "source": [
    "# Make sure both datasets have the same timestamp since we will merge on this\n",
    "print(df_priceDemand['SETTLEMENTDATE'].describe())\n",
    "print(df_scadaIS['SETTLEMENTDATE'].describe())"
   ]
  },
  {
   "cell_type": "code",
   "execution_count": 29,
   "metadata": {
    "collapsed": false
   },
   "outputs": [],
   "source": [
    "# Merge Datasets into Combined dataset\n",
    "df_combined = pd.merge(df_scadaIS, df_priceDemand, on='SETTLEMENTDATE')"
   ]
  },
  {
   "cell_type": "code",
   "execution_count": 30,
   "metadata": {
    "collapsed": false
   },
   "outputs": [
    {
     "name": "stdout",
     "output_type": "stream",
     "text": [
      "   AGLHAL  AGLSOM  ANGAST1      ARWF1  BALDHWF1  BARCALDN  BARCSF1  BARRON-1  \\\n",
      "0     0.0     0.0      0.0  60.720000  1.901800       0.0      0.1       0.0   \n",
      "1     0.0     0.0      0.0  40.400000  0.257333       0.0      0.1       0.0   \n",
      "2     0.0     0.0      0.0  35.500000  0.000000       0.0      0.1       0.0   \n",
      "3     0.0     0.0      0.0  29.883333  0.000000       0.0      0.1       0.0   \n",
      "4     0.0     0.0      0.0  16.683333  0.006667       0.0      0.1       0.0   \n",
      "\n",
      "   BARRON-2  BASTYAN  ...         YWPS2       YWPS3       YWPS4  \\\n",
      "0       0.0      0.0  ...    374.134680  349.057216  371.187848   \n",
      "1       0.0      0.0  ...    358.770888  336.429957  355.718990   \n",
      "2       0.0      0.0  ...    368.378478  351.014355  372.890932   \n",
      "3       0.0      0.0  ...    374.560765  349.838185  374.443458   \n",
      "4       0.0      0.0  ...    373.516455  352.943248  374.067087   \n",
      "\n",
      "       SETTLEMENTDATE  N-Q-MNSP1   NSW1-QLD1   VIC1-NSW1  REGION  TOTALDEMAND  \\\n",
      "0 2017-02-01 00:30:00   9.000000 -199.256178  771.586480    NSW1      7589.40   \n",
      "1 2017-02-01 01:00:00  51.116667  328.242177  651.377975    NSW1      7286.38   \n",
      "2 2017-02-01 01:30:00  11.000000  -65.161715  896.018287    NSW1      6964.76   \n",
      "3 2017-02-01 02:00:00  -9.633333 -241.221697  913.923222    NSW1      6838.74   \n",
      "4 2017-02-01 02:30:00   6.000000 -231.446037  958.787083    NSW1      6636.28   \n",
      "\n",
      "     RRP  \n",
      "0  56.01  \n",
      "1  30.11  \n",
      "2  45.51  \n",
      "3  66.78  \n",
      "4  69.96  \n",
      "\n",
      "[5 rows x 279 columns]\n",
      "(1344, 279)\n"
     ]
    }
   ],
   "source": [
    "print(df_combined.head(5))\n",
    "print(df_combined.shape)"
   ]
  },
  {
   "cell_type": "code",
   "execution_count": 31,
   "metadata": {
    "collapsed": false
   },
   "outputs": [],
   "source": [
    "## Filter on NSW1 Generators\n",
    "RequiredCols = NSWGenList + ['SETTLEMENTDATE','REGION','TOTALDEMAND','RRP']\n",
    "colstodrop = [c for c in df_combined.columns.tolist() if c not in RequiredCols]\n",
    "df_NSW_Feb17_combined = df_combined.drop(colstodrop, axis=1)"
   ]
  },
  {
   "cell_type": "code",
   "execution_count": 32,
   "metadata": {
    "collapsed": false
   },
   "outputs": [
    {
     "name": "stdout",
     "output_type": "stream",
     "text": [
      "(1344, 52)\n"
     ]
    }
   ],
   "source": [
    "print(df_NSW_Feb17_combined.shape)"
   ]
  },
  {
   "cell_type": "code",
   "execution_count": 33,
   "metadata": {
    "collapsed": false
   },
   "outputs": [
    {
     "name": "stdout",
     "output_type": "stream",
     "text": [
      "    BLOWERNG  BOCORWF1  BROKENH1        BW01        BW02        BW03  \\\n",
      "0  67.439002  0.580000       0.0  479.845020  481.540012  481.149978   \n",
      "1  67.435752  0.675000       0.0  446.108340  429.449992  425.895835   \n",
      "2  67.464288  0.368333       0.0  428.825010  435.195823  425.820822   \n",
      "3  67.450837  0.131667       0.0  447.845825  444.558330  447.683330   \n",
      "4  67.435000  0.000000       0.0  430.450052  432.241660  439.516645   \n",
      "\n",
      "         BW04   CAPTL_WF  CG1  CG2  ...           VP5         VP6   WOODLWN1  \\\n",
      "0  489.030004  27.695203  0.0  0.0  ...    450.919996  452.055004  15.798596   \n",
      "1  437.433350  24.160001  0.0  0.0  ...    395.958330  390.312500  11.245500   \n",
      "2  444.191652  38.949333  0.0  0.0  ...    377.545840  374.070832  17.487003   \n",
      "3  461.845827  50.253333  0.0  0.0  ...    472.245818  474.241668  17.964000   \n",
      "4  447.474978  32.939332  0.0  0.0  ...    494.541670  492.216670  13.578008   \n",
      "\n",
      "       SETTLEMENTDATE  N-Q-MNSP1   NSW1-QLD1   VIC1-NSW1  REGION  TOTALDEMAND  \\\n",
      "0 2017-02-01 00:30:00   9.000000 -199.256178  771.586480    NSW1      7589.40   \n",
      "1 2017-02-01 01:00:00  51.116667  328.242177  651.377975    NSW1      7286.38   \n",
      "2 2017-02-01 01:30:00  11.000000  -65.161715  896.018287    NSW1      6964.76   \n",
      "3 2017-02-01 02:00:00  -9.633333 -241.221697  913.923222    NSW1      6838.74   \n",
      "4 2017-02-01 02:30:00   6.000000 -231.446037  958.787083    NSW1      6636.28   \n",
      "\n",
      "     RRP  \n",
      "0  56.01  \n",
      "1  30.11  \n",
      "2  45.51  \n",
      "3  66.78  \n",
      "4  69.96  \n",
      "\n",
      "[5 rows x 52 columns]\n"
     ]
    }
   ],
   "source": [
    "print(df_NSW_Feb17_combined.head(5))"
   ]
  },
  {
   "cell_type": "code",
   "execution_count": 34,
   "metadata": {
    "collapsed": false
   },
   "outputs": [],
   "source": [
    "outputfile='F:/RMIT_MasterofAnalytics/LEP_DataScience/Assignments/Datasets/NSW1_Feb17_DispatchData_Interconnectors.csv'\n",
    "df_NSW_Feb17_combined.to_csv(outputfile,index=False)"
   ]
  }
 ],
 "metadata": {
  "kernelspec": {
   "display_name": "Python [Root]",
   "language": "python",
   "name": "Python [Root]"
  },
  "language_info": {
   "codemirror_mode": {
    "name": "ipython",
    "version": 3
   },
   "file_extension": ".py",
   "mimetype": "text/x-python",
   "name": "python",
   "nbconvert_exporter": "python",
   "pygments_lexer": "ipython3",
   "version": "3.5.2"
  }
 },
 "nbformat": 4,
 "nbformat_minor": 0
}
